{
 "cells": [
  {
   "cell_type": "code",
   "execution_count": null,
   "metadata": {},
   "outputs": [],
   "source": [
    "# Amazon stock\n",
    "!python base_test.py configs/AMZN_test.yaml\n",
    "!python base_plots.py results/AMZN_test.pkl"
   ]
  },
  {
   "cell_type": "code",
   "execution_count": null,
   "metadata": {},
   "outputs": [],
   "source": [
    "# Google stock\n",
    "!python base_test.py configs/GOOGL_test.yaml\n",
    "!python base_plots.py results/GOOGL_test.pkl"
   ]
  },
  {
   "cell_type": "code",
   "execution_count": null,
   "metadata": {},
   "outputs": [],
   "source": [
    "# Electricity demand\n",
    "!python base_test.py configs/elec2_test.yaml\n",
    "!python base_plots.py results/elec2_test.pkl"
   ]
  },
  {
   "cell_type": "code",
   "execution_count": null,
   "metadata": {},
   "outputs": [],
   "source": [
    "# Climate temperature\n",
    "!python base_test.py configs/daily-climate_test.yaml\n",
    "!python base_plots.py results/daily-climate_test.pkl"
   ]
  },
  {
   "cell_type": "code",
   "execution_count": null,
   "metadata": {},
   "outputs": [],
   "source": [
    "# Changepoint data\n",
    "!python base_test.py configs/changepoint_test.yaml\n",
    "!python base_plots.py results/changepoint_test.pkl"
   ]
  },
  {
   "cell_type": "code",
   "execution_count": null,
   "metadata": {},
   "outputs": [],
   "source": [
    "# plot introduction figures\n",
    "!python intro_plot.py --filename results/GOOGL_test.pkl --key1 'OGD' --lr1 10 --key2 'ECI' --lr2 0.5 --window_length 400 --window_start 2300 --window_loc 'upper left' --coverage_average_length 50  --coverage_average_burnin 50 --set_inset\n"
   ]
  }
 ],
 "metadata": {
  "kernelspec": {
   "display_name": "pid",
   "language": "python",
   "name": "python3"
  },
  "language_info": {
   "codemirror_mode": {
    "name": "ipython",
    "version": 3
   },
   "file_extension": ".py",
   "mimetype": "text/x-python",
   "name": "python",
   "nbconvert_exporter": "python",
   "pygments_lexer": "ipython3",
   "version": "3.12.4"
  }
 },
 "nbformat": 4,
 "nbformat_minor": 2
}
